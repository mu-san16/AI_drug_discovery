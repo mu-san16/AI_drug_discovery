{
 "cells": [
  {
   "cell_type": "code",
   "execution_count": 2,
   "metadata": {},
   "outputs": [],
   "source": [
    "import pandas as pd\n",
    "import numpy as np\n",
    "import os"
   ]
  },
  {
   "cell_type": "code",
   "execution_count": null,
   "metadata": {},
   "outputs": [],
   "source": [
    "df = pd.read_excel('file_path')\n",
    "df "
   ]
  },
  {
   "cell_type": "code",
   "execution_count": null,
   "metadata": {},
   "outputs": [],
   "source": [
    "df1 = pd.read_excel('file_path')\n",
    "df1"
   ]
  },
  {
   "cell_type": "code",
   "execution_count": 67,
   "metadata": {},
   "outputs": [],
   "source": [
    "# detaをアルファベット順に変更する\n",
    "df = df.sort_values('chemid')\n",
    "df1 = df1.sort_values('chemid')"
   ]
  },
  {
   "cell_type": "code",
   "execution_count": null,
   "metadata": {},
   "outputs": [],
   "source": [
    "df = df.rename(columns = {'chemid': '薬剤名', 'pid':'遺伝子名', 'y':'予測値IC50(対数)', 'y_hat':'予測値IC50(真数)'})\n",
    "df1 = df1.rename(columns = {'chemid': '薬剤名', 'pid':'遺伝子名', 'y':'予測値Kd(対数)', 'y_hat':'予測値Kd(真数)'})\n",
    "df1"
   ]
  },
  {
   "cell_type": "code",
   "execution_count": null,
   "metadata": {},
   "outputs": [],
   "source": [
    "df = df.drop_duplicates('薬剤名')\n",
    "df\n",
    "df1 = df1.drop_duplicates('薬剤名')\n",
    "df1"
   ]
  },
  {
   "cell_type": "code",
   "execution_count": null,
   "metadata": {},
   "outputs": [],
   "source": [
    "df2 = df.merge(df1, on = '薬剤名')\n",
    "df2"
   ]
  },
  {
   "cell_type": "code",
   "execution_count": null,
   "metadata": {},
   "outputs": [],
   "source": [
    "df3 = df2[df2['予測値IC50(真数)'] < 100]\n",
    "df3\n",
    "df4 = df3[df3['予測値Kd(真数)'] < 500]\n",
    "df4"
   ]
  },
  {
   "cell_type": "code",
   "execution_count": 80,
   "metadata": {},
   "outputs": [],
   "source": [
    "df4.to_csv('file_path')"
   ]
  },
  {
   "cell_type": "code",
   "execution_count": null,
   "metadata": {},
   "outputs": [],
   "source": [
    "#ループコードの記載\n",
    "# ベースフォルダーのパス\n",
    "base_folder = 'file_path'\n",
    "\n",
    "# TCF4-206からTC4-211までのループ\n",
    "for i in range(206,212):\n",
    "    folder_name = f'TCF4-{i}'\n",
    "    folder_path = os.path.join(base_folder, folder_name)\n",
    "    file_path1 = os.path.join(folder_path, f'{i}IC50.xlsx')\n",
    "    file_path2 = os.path.join(folder_path, f'{i}Kd.xlsx')\n",
    "    \n",
    "    # ファイルが存在しない場合はスキップ\n",
    "    if not os.path.exists(file_path1) or not os.path.exists(file_path2):\n",
    "        continue\n",
    "\n",
    "    # excelデータを読み込む\n",
    "    df1 = pd.read_excel(file_path1)\n",
    "    df2 = pd.read_excel(file_path2)\n",
    "    \n",
    "    # データのカラムを変更する\n",
    "    df1.columns = ['薬剤名', '遺伝子名' , '予測値IC50(対数)' , '予測値IC50(実数)']\n",
    "    df2.columns = ['薬剤名', '遺伝子名' , '予測値Kd(対数)' , '予測値Kd(実数)']\n",
    "    \n",
    "    # 薬剤名の重複を削除する\n",
    "    df1 = df1.drop_duplicates(subset='薬剤名')\n",
    "    df2 = df2.drop_duplicates(subset='薬剤名')\n",
    "    \n",
    "    # データの結合\n",
    "    # 薬剤名をアルファベット順に並び替え\n",
    "    df1 = df1.sort_values('薬剤名')\n",
    "    df2 = df2.sort_values('薬剤名')\n",
    "    \n",
    "    # 薬剤名をキーにして結合\n",
    "    df3 = pd.merge(df1, df2, on='薬剤名')\n",
    "    \n",
    "    # 遺伝子名_yを削除\n",
    "    df3 = df3.drop('遺伝子名_y', axis=1)\n",
    "    \n",
    "    # データの絞り込み\n",
    "    # 予測値kd(実数)を500未満に絞り込む\n",
    "    df4 = df3[df3['予測値Kd(実数)'] < 500]\n",
    "    \n",
    "    # 予測値IC50(実数)を100未満に絞り込む\n",
    "    df5 = df4[df4['予測値IC50(実数)'] < 100]\n",
    "    \n",
    "    # データの保存(ベースフォルダーの中にフォルダーを作成して保存)\n",
    "    result_folder = os.path.join(base_folder, 'TCF4-Result')\n",
    "    os.makedirs(result_folder, exist_ok=True)\n",
    "    result_file_path = os.path.join(result_folder, f'{folder_name}_result.xlsx')\n",
    "    df5.to_excel(result_file_path, index=False)"
   ]
  }
 ],
 "metadata": {
  "kernelspec": {
   "display_name": "AI_drug",
   "language": "python",
   "name": "python3"
  },
  "language_info": {
   "codemirror_mode": {
    "name": "ipython",
    "version": 3
   },
   "file_extension": ".py",
   "mimetype": "text/x-python",
   "name": "python",
   "nbconvert_exporter": "python",
   "pygments_lexer": "ipython3",
   "version": "3.11.8"
  }
 },
 "nbformat": 4,
 "nbformat_minor": 2
}
